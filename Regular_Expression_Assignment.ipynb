{
 "cells": [
  {
   "cell_type": "markdown",
   "id": "554738b9",
   "metadata": {},
   "source": [
    "Question 1- Write a Python program to replace all occurrences of a space, comma, or dot with a colon.\n",
    "\n",
    "Sample Text- 'Python Exercises, PHP exercises.'\n",
    "\n",
    "Expected Output: Python:Exercises::PHP:exercises:\n"
   ]
  },
  {
   "cell_type": "code",
   "execution_count": 1,
   "id": "d591eba4",
   "metadata": {},
   "outputs": [
    {
     "data": {
      "text/plain": [
       "'Python:Exercise::PHP:exercises:'"
      ]
     },
     "execution_count": 1,
     "metadata": {},
     "output_type": "execute_result"
    }
   ],
   "source": [
    "import re\n",
    "\n",
    "string  = 'Python Exercise, PHP exercises.'\n",
    "\n",
    "pattern = r\",| |\\.\"\n",
    "x=re.sub(pattern,\":\",string)\n",
    "x"
   ]
  },
  {
   "cell_type": "markdown",
   "id": "b30d61d0",
   "metadata": {},
   "source": [
    "Question 2-  Write a Python program to find all words starting with 'a' or 'e' in a given string."
   ]
  },
  {
   "cell_type": "code",
   "execution_count": 2,
   "id": "1c066fbc",
   "metadata": {},
   "outputs": [
    {
     "data": {
      "text/plain": [
       "['eat', 'an', 'apple', 'everyday']"
      ]
     },
     "execution_count": 2,
     "metadata": {},
     "output_type": "execute_result"
    }
   ],
   "source": [
    "string = \"one should eat an apple everyday\"\n",
    "\n",
    "pattern = r'\\b[ae]\\w*'\n",
    "\n",
    "x = re.findall(pattern,string)\n",
    "x"
   ]
  },
  {
   "cell_type": "markdown",
   "id": "92f4775a",
   "metadata": {},
   "source": [
    "Question 3- Create a function in python to find all words that are at least 4 characters long in a string. The use of the re.compile() method is mandatory."
   ]
  },
  {
   "cell_type": "code",
   "execution_count": 3,
   "id": "b6590895",
   "metadata": {},
   "outputs": [
    {
     "name": "stdout",
     "output_type": "stream",
     "text": [
      "['should', 'apple', 'everyday']\n"
     ]
    }
   ],
   "source": [
    "def find_words(string):\n",
    "    pattern = r'\\w{4,}'\n",
    "    regex_pattern = re.compile(pattern)\n",
    "\n",
    "    x = regex_pattern.findall(string)\n",
    "    return(x)\n",
    "\n",
    "k = find_words(string)\n",
    "string = \"one should eat an apple everyday\"\n",
    "print(k)"
   ]
  },
  {
   "cell_type": "markdown",
   "id": "9eabd637",
   "metadata": {},
   "source": [
    "Question 4- Create a function in python to find all three, four, and five character words in a string. The use of the re.compile() method is mandatory."
   ]
  },
  {
   "cell_type": "code",
   "execution_count": 4,
   "id": "1d6b145c",
   "metadata": {},
   "outputs": [
    {
     "name": "stdout",
     "output_type": "stream",
     "text": [
      "['one', 'eat', 'apple']\n"
     ]
    }
   ],
   "source": [
    "def find_words(string):\n",
    "    pattern = r'\\b\\w{3}\\b|\\b\\w{4}\\b|\\b\\w{5}\\b'\n",
    "    regex_pattern = re.compile(pattern)\n",
    "\n",
    "    x = regex_pattern.findall(string)\n",
    "    return(x)\n",
    "\n",
    "k = find_words(string)\n",
    "string = \"one should eat an apple everyday\"\n",
    "print(k)"
   ]
  },
  {
   "cell_type": "markdown",
   "id": "829d5c63",
   "metadata": {},
   "source": [
    "Question 5- Create a function in Python to remove the parenthesis in a list of strings. The use of the re.compile() method is mandatory.\n",
    "\n",
    "Sample Text: [\"example (.com)\", \"hr@fliprobo (.com)\", \"github (.com)\", \"Hello (Data Science World)\", \"Data (Scientist)\"]\n",
    "\n",
    "Expected Output:\n",
    "\n",
    "example.com\n",
    "\n",
    "hr@fliprobo.com\n",
    "\n",
    "github.com\n",
    "\n",
    "Hello Data Science World\n",
    "\n",
    "Data Scientist\n"
   ]
  },
  {
   "cell_type": "code",
   "execution_count": 5,
   "id": "a7787ecd",
   "metadata": {},
   "outputs": [
    {
     "name": "stdout",
     "output_type": "stream",
     "text": [
      "example .com\n",
      "hr@fliprobo .com\n",
      "github .com\n",
      "Hello Data Science World\n",
      "Data Scientist\n"
     ]
    }
   ],
   "source": [
    "def remove_parentheses(strings):\n",
    "\n",
    "    pattern = re.compile(r'\\((.*?)\\)')\n",
    "\n",
    "    def remove_paren(match):\n",
    "        return match.group(1)\n",
    "\n",
    "    strn = []\n",
    "    for string in strings:\n",
    "        string1 = pattern.sub(remove_paren, string)\n",
    "        strn.append(string1)\n",
    "\n",
    "    return strn\n",
    "\n",
    "sample = [\"example (.com)\", \"hr@fliprobo (.com)\", \"github (.com)\", \"Hello (Data Science World)\", \"Data (Scientist)\"]\n",
    "output = remove_parentheses(sample)\n",
    "\n",
    "for item in output:\n",
    "    print(item)\n"
   ]
  },
  {
   "cell_type": "markdown",
   "id": "315ea447",
   "metadata": {},
   "source": [
    "Question 6- Write a python program to remove the parenthesis area from the text stored in the text file using Regular Expression.\n",
    "\n",
    "Sample Text: [\"example (.com)\", \"hr@fliprobo (.com)\", \"github (.com)\", \"Hello (Data Science World)\", \"Data (Scientist)\"]\n",
    "\n",
    "Expected Output: [\"example\", \"hr@fliprobo\", \"github\", \"Hello\", \"Data\"]\n",
    "\n",
    "Note- Store given sample text in the text file and then to remove the parenthesis area from the text.\n"
   ]
  },
  {
   "cell_type": "code",
   "execution_count": 6,
   "id": "10912b18",
   "metadata": {},
   "outputs": [
    {
     "name": "stdout",
     "output_type": "stream",
     "text": [
      "[\"example\", \"hr@fliprobo\", \"github\", \"Hello\", \"Data\"]\n"
     ]
    }
   ],
   "source": [
    "with open('sample.txt', 'r') as file:\n",
    "    text = file.read()\n",
    "\n",
    "pattern = r'\\s*\\([^)]*\\)'\n",
    "text1 = re.sub(pattern, '', text)\n",
    "\n",
    "print(text1)\n"
   ]
  },
  {
   "cell_type": "markdown",
   "id": "95bfcf11",
   "metadata": {},
   "source": [
    "Question 7- Write a regular expression in Python to split a string into uppercase letters.\n",
    "\n",
    "Sample text: “ImportanceOfRegularExpressionsInPython”\n",
    "\n",
    "Expected Output: [‘Importance’, ‘Of’, ‘Regular’, ‘Expression’, ‘In’, ‘Python’]\n",
    "\n"
   ]
  },
  {
   "cell_type": "code",
   "execution_count": 7,
   "id": "399c8b67",
   "metadata": {},
   "outputs": [
    {
     "name": "stdout",
     "output_type": "stream",
     "text": [
      "['Importance', 'Of', 'Regular', 'Expressions', 'In', 'Python']\n"
     ]
    }
   ],
   "source": [
    "sample = \"ImportanceOfRegularExpressionsInPython\"\n",
    "\n",
    "pattern = '[A-Z][a-z]*'\n",
    "\n",
    "x = re.findall(pattern,sample)\n",
    "\n",
    "print(x)"
   ]
  },
  {
   "cell_type": "markdown",
   "id": "79db7380",
   "metadata": {},
   "source": [
    "Question 8- Create a function in python to insert spaces between words starting with numbers.\n",
    "\n",
    "Sample Text: “RegularExpression1IsAn2ImportantTopic3InPython&quot;\n",
    "\n",
    "Expected Output: RegularExpression 1IsAn 2ImportantTopic 3InPython"
   ]
  },
  {
   "cell_type": "code",
   "execution_count": 8,
   "id": "0e32088f",
   "metadata": {},
   "outputs": [
    {
     "name": "stdout",
     "output_type": "stream",
     "text": [
      "RegularExpression 1IsAn 2ImportantTopic 3InPython\n"
     ]
    }
   ],
   "source": [
    "def insert_spaces(x):\n",
    "    k = re.sub(r'(\\d)', r' \\1',x)\n",
    "    print(k)  \n",
    "\n",
    "sample =  \"RegularExpression1IsAn2ImportantTopic3InPython\"\n",
    "x = insert_spaces(sample)"
   ]
  },
  {
   "cell_type": "markdown",
   "id": "2358a588",
   "metadata": {},
   "source": [
    "Question 9- Create a function in python to insert spaces between words starting with capital letters\n",
    "or with numbers.\n",
    "\n",
    "Sample Text: “RegularExpression1IsAn2ImportantTopic3InPython&quot;\n",
    "\n",
    "Expected Output: Regular Expression 1 Is An 2 Important Topic 3 In Python"
   ]
  },
  {
   "cell_type": "code",
   "execution_count": 9,
   "id": "a632fbcd",
   "metadata": {},
   "outputs": [
    {
     "name": "stdout",
     "output_type": "stream",
     "text": [
      " Regular Expression 1 Is An 2 Important Topic 3 In Python\n"
     ]
    }
   ],
   "source": [
    "def insert_spaces(x):\n",
    "    k = re.sub(r'([A-Z0-9])', r' \\1',x)\n",
    "    print(k)  \n",
    "\n",
    "sample =  \"RegularExpression1IsAn2ImportantTopic3InPython\"\n",
    "x = insert_spaces(sample)"
   ]
  },
  {
   "cell_type": "markdown",
   "id": "5e391c20",
   "metadata": {},
   "source": [
    "Question 10- Write a python program to extract email address from the text stored in the text file\n",
    "using Regular Expression.\n",
    "\n",
    "Sample Text- Hello my name is Data Science and my email address is xyz@domain.com and alternate\n",
    "email address is xyz.abc@sdomain.domain.com.\n",
    "Please contact us at hr@fliprobo.com for further information.\n",
    "\n",
    "Expected Output:\n",
    "[&#39;xyz@domain.com&#39;, &#39;xyz.abc@sdomain.domain.com&#39;]\n",
    "[&#39;hr@fliprobo.com&#39;]\n",
    "\n",
    "Note- Store given sample text in the text file and then extract email addresses."
   ]
  },
  {
   "cell_type": "code",
   "execution_count": 10,
   "id": "69a29cb6",
   "metadata": {},
   "outputs": [
    {
     "name": "stdout",
     "output_type": "stream",
     "text": [
      "['xyz@domain.com', 'xyz.abc@sdomain.domain.com', 'hr@fliprobo.com']\n"
     ]
    }
   ],
   "source": [
    "with open(\"sample2.txt\") as file:\n",
    "    for i in file:\n",
    "        emails = re.findall(r'\\b[\\w.-]+@[\\w.-]+\\.[A-Za-z]{2,6}\\b', i)\n",
    "        print(emails)\n"
   ]
  },
  {
   "cell_type": "markdown",
   "id": "dac3424d",
   "metadata": {},
   "source": [
    "Question 11- Write a Python program to match a string that contains only upper and lowercase\n",
    "letters, numbers, and underscores."
   ]
  },
  {
   "cell_type": "code",
   "execution_count": 12,
   "id": "1728283c",
   "metadata": {},
   "outputs": [
    {
     "name": "stdout",
     "output_type": "stream",
     "text": [
      "Enter a string: flip_robo987\n",
      "The string is valid.\n"
     ]
    }
   ],
   "source": [
    "pattern = r'[a-zA-Z0-9_]'\n",
    "string = input(\"Enter a string: \")\n",
    "\n",
    "if re.findall(pattern, string):\n",
    "    print(\"The string is valid.\")\n",
    "else:\n",
    "    print(\"The string is not valid.\")\n"
   ]
  },
  {
   "cell_type": "markdown",
   "id": "f0278462",
   "metadata": {},
   "source": [
    "Question 12- Write a Python program where a string will start with a specific number."
   ]
  },
  {
   "cell_type": "code",
   "execution_count": 13,
   "id": "201beb46",
   "metadata": {},
   "outputs": [
    {
     "name": "stdout",
     "output_type": "stream",
     "text": [
      "String '123abd' starts with the specific number '123'.\n",
      "String 'data45' does not start with the specific number '123'.\n",
      "String '123_hello_09' starts with the specific number '123'.\n",
      "String '786' does not start with the specific number '123'.\n"
     ]
    }
   ],
   "source": [
    "pattern = r'^123'\n",
    "\n",
    "string = ['123abd','data45','123_hello_09','786']\n",
    "\n",
    "for i in string:\n",
    "    x= re.findall(pattern,i)\n",
    "    if x:\n",
    "        print(f\"String '{i}' starts with the specific number '123'.\")\n",
    "    else:\n",
    "        print(f\"String '{i}' does not start with the specific number '123'.\")\n"
   ]
  },
  {
   "cell_type": "markdown",
   "id": "d904d7bd",
   "metadata": {},
   "source": [
    "Question 13- Write a Python program to remove leading zeros from an IP address"
   ]
  },
  {
   "cell_type": "code",
   "execution_count": 14,
   "id": "aee61447",
   "metadata": {},
   "outputs": [
    {
     "name": "stdout",
     "output_type": "stream",
     "text": [
      "Original IP: 192.168.001.001\n",
      "IP without leading zeros: 192.168.1.1\n"
     ]
    }
   ],
   "source": [
    "IP = \"192.168.001.001\"\n",
    "IP_new = re.sub(r'\\b0+(\\d)', r'\\1', IP)\n",
    "\n",
    "print(\"Original IP:\", IP)\n",
    "print(\"IP without leading zeros:\", IP_new)\n"
   ]
  },
  {
   "cell_type": "markdown",
   "id": "5a1c0060",
   "metadata": {},
   "source": [
    "Question 14- Write a regular expression in python to match a date string in the form of Month name\n",
    "followed by day number and year stored in a text file.\n",
    "\n",
    "Sample text : &#39; On August 15th 1947 that India was declared independent from British colonialism, and\n",
    "the reins of control were handed over to the leaders of the Country’.\n",
    "\n",
    "Expected Output- August 15th 1947\n",
    "\n",
    "Note- Store given sample text in the text file and then extract the date string asked format."
   ]
  },
  {
   "cell_type": "code",
   "execution_count": 15,
   "id": "0004998a",
   "metadata": {},
   "outputs": [
    {
     "name": "stdout",
     "output_type": "stream",
     "text": [
      "['August 15th 1947']\n"
     ]
    }
   ],
   "source": [
    "with open('sample3.txt') as f:\n",
    "    k = f.read()\n",
    "\n",
    "pattern = r'\\b(?:January|February|March|April|May|June|July|August|September|October|November|December)\\s+\\d{1,2}(?:st|nd|rd|th)?\\s+\\d{4}\\b'\n",
    "\n",
    "x = re.findall(pattern, k)\n",
    "print(x)"
   ]
  },
  {
   "cell_type": "markdown",
   "id": "940baaeb",
   "metadata": {},
   "source": [
    "Question 15- Write a Python program to search some literals strings in a string.\n",
    "\n",
    "Sample text : &#39;The quick brown fox jumps over the lazy dog.&#39;\n",
    "\n",
    "Searched words : &#39;fox&#39;, &#39;dog&#39;, &#39;horse&#39;"
   ]
  },
  {
   "cell_type": "code",
   "execution_count": 16,
   "id": "f5bdc516",
   "metadata": {},
   "outputs": [
    {
     "name": "stdout",
     "output_type": "stream",
     "text": [
      "The word 'fox' is found in the string\n",
      "The word 'dog' is found in the string\n",
      "The word 'horse' is not found in the string\n"
     ]
    }
   ],
   "source": [
    "sample = 'The quick brown fox jumps over the lazy dog.'\n",
    "\n",
    "words = ['fox','dog','horse']\n",
    "\n",
    "for i in words:\n",
    "    if i in sample:\n",
    "        print(f\"The word '{i}' is found in the string\")\n",
    "    else:\n",
    "        print(f\"The word '{i}' is not found in the string\")\n",
    "        "
   ]
  },
  {
   "cell_type": "markdown",
   "id": "f0b76a3d",
   "metadata": {},
   "source": [
    "Question 16- Write a Python program to search a literals string in a string and also find the location\n",
    "within the original string where the pattern occurs\n",
    "\n",
    "Sample text : &#39;The quick brown fox jumps over the lazy dog.&#39;\n",
    "\n",
    "Searched words : &#39;fox&#39;"
   ]
  },
  {
   "cell_type": "code",
   "execution_count": 17,
   "id": "416b474f",
   "metadata": {},
   "outputs": [
    {
     "name": "stdout",
     "output_type": "stream",
     "text": [
      "(16, 19)\n",
      "<re.Match object; span=(16, 19), match='fox'>\n"
     ]
    }
   ],
   "source": [
    "sample = 'The quick brown fox jumps over the lazy dog.'\n",
    "\n",
    "word = 'fox'\n",
    "\n",
    "if word in sample:\n",
    "    k = re.search(word,sample)\n",
    "    print(k.span())\n",
    "    print(k)"
   ]
  },
  {
   "cell_type": "markdown",
   "id": "8565f429",
   "metadata": {},
   "source": [
    "Question 17- Write a Python program to find the substrings within a string.\n",
    "\n",
    "Sample text : &#39;Python exercises, PHP exercises, C# exercises&#39;\n",
    "\n",
    "Pattern : &#39;exercises&#39;."
   ]
  },
  {
   "cell_type": "code",
   "execution_count": 18,
   "id": "fb9e9c8b",
   "metadata": {},
   "outputs": [
    {
     "name": "stdout",
     "output_type": "stream",
     "text": [
      "Pattern found at position 7-15\n",
      "Pattern found at position 22-30\n",
      "Pattern found at position 36-44\n"
     ]
    }
   ],
   "source": [
    "sample = 'Python exercises, PHP exercises, C# exercises'\n",
    "pattern = \"exercise\"\n",
    "\n",
    "x = re.finditer(pattern,sample)\n",
    "\n",
    "for match in x:\n",
    "    start = match.start()\n",
    "    end = match.end()\n",
    "    print(f\"Pattern found at position {start}-{end}\")"
   ]
  },
  {
   "cell_type": "markdown",
   "id": "4e64f980",
   "metadata": {},
   "source": [
    "Question 18- Write a Python program to find the occurrence and position of the substrings within a\n",
    "string."
   ]
  },
  {
   "cell_type": "code",
   "execution_count": 19,
   "id": "7956829e",
   "metadata": {},
   "outputs": [
    {
     "name": "stdout",
     "output_type": "stream",
     "text": [
      "Pattern found at position 7-15 at Occurence 1\n",
      "Pattern found at position 22-30 at Occurence 2\n",
      "Pattern found at position 36-44 at Occurence 3\n"
     ]
    }
   ],
   "source": [
    "sample = 'Python exercises, PHP exercises, C# exercises'\n",
    "pattern = \"exercise\"\n",
    "\n",
    "x = re.finditer(pattern,sample)\n",
    "occurence = 0\n",
    "\n",
    "for match in x:\n",
    "    start = match.start()\n",
    "    end = match.end()\n",
    "    occurence+= 1\n",
    "    print(f\"Pattern found at position {start}-{end} at Occurence {occurence}\")"
   ]
  },
  {
   "cell_type": "markdown",
   "id": "a74c7054",
   "metadata": {},
   "source": [
    "Question 19- Write a Python program to convert a date of yyyy-mm-dd format to dd-mm-yyyy\n",
    "format."
   ]
  },
  {
   "cell_type": "code",
   "execution_count": 20,
   "id": "5d376f83",
   "metadata": {},
   "outputs": [
    {
     "name": "stdout",
     "output_type": "stream",
     "text": [
      "Enter a date in yyyy-mm-dd format: 1986-08-06\n",
      "Converted date: 6-8-1986\n"
     ]
    }
   ],
   "source": [
    "date = input(\"Enter a date in yyyy-mm-dd format: \")\n",
    "\n",
    "if len(date) == 10 and date.count('-')==2:\n",
    "    year, month, day = date.split('-')\n",
    "    year = int(year)\n",
    "    month = int(month)\n",
    "    day = int(day)\n",
    "    if (month>=1 and month<=12) and (day>=1 and day<=31):\n",
    "        \n",
    "        new_date = f\"{day}-{month}-{year}\"\n",
    "        print(f\"Converted date: {new_date}\")\n",
    "    else:\n",
    "        print(\"Invalid date format\")\n",
    "else:\n",
    "    print(\"Invalid date format\")\n"
   ]
  },
  {
   "cell_type": "markdown",
   "id": "d16468e8",
   "metadata": {},
   "source": [
    "Question 20- Create a function in python to find all decimal numbers with a precision of 1 or 2 in a\n",
    "string. The use of the re.compile() method is mandatory.\n",
    "\n",
    "Sample Text: &quot;01.12 0132.123 2.31875 145.8 3.01 27.25 0.25&quot;\n",
    "\n",
    "Expected Output: [&#39;01.12&#39;, &#39;145.8&#39;, &#39;3.01&#39;, &#39;27.25&#39;, &#39;0.25&#39;]"
   ]
  },
  {
   "cell_type": "code",
   "execution_count": 21,
   "id": "96be06c1",
   "metadata": {},
   "outputs": [
    {
     "name": "stdout",
     "output_type": "stream",
     "text": [
      "['01.12', '145.8', '3.01', '27.25', '0.25']\n"
     ]
    }
   ],
   "source": [
    "def find_decimal(text):\n",
    "    pattern = r'\\b\\d+\\.\\d{1,2}\\b'\n",
    "    x = re.compile(pattern)\n",
    "    match = x.findall(text)\n",
    "    return match\n",
    "    \n",
    "sample = \"01.12 0132.123 2.31875 145.8 3.01 27.25 0.25\"\n",
    "output = find_decimal(sample)\n",
    "print(output)"
   ]
  },
  {
   "cell_type": "markdown",
   "id": "f56d391c",
   "metadata": {},
   "source": [
    "Question 21- Write a Python program to separate and print the numbers and their position of a\n",
    "given string."
   ]
  },
  {
   "cell_type": "code",
   "execution_count": 22,
   "id": "52002092",
   "metadata": {},
   "outputs": [
    {
     "name": "stdout",
     "output_type": "stream",
     "text": [
      "Number 1 is at position 0\n",
      "Number 2 is at position 1\n",
      "Number 3 is at position 2\n",
      "Number 4 is at position 8\n",
      "Number 5 is at position 9\n",
      "Number 6 is at position 10\n"
     ]
    }
   ],
   "source": [
    "string = '123Hello456'\n",
    "pos = 0\n",
    "for i in string:\n",
    "    if i.isdigit():\n",
    "        print(f\"Number {i} is at position {pos}\")\n",
    "    pos+=1"
   ]
  },
  {
   "cell_type": "markdown",
   "id": "2e052821",
   "metadata": {},
   "source": [
    "Question 22- Write a regular expression in python program to extract maximum/largest numeric\n",
    "value from a string.\n",
    "\n",
    "Sample Text: &#39;My marks in each semester are: 947, 896, 926, 524, 734, 950, 642&#39;\n",
    "    \n",
    "Expected Output: 950"
   ]
  },
  {
   "cell_type": "code",
   "execution_count": 23,
   "id": "03cf6f83",
   "metadata": {},
   "outputs": [
    {
     "name": "stdout",
     "output_type": "stream",
     "text": [
      "950\n"
     ]
    }
   ],
   "source": [
    "sample = 'My marks in each semester are: 947, 896, 926, 524, 734, 950, 642'\n",
    "\n",
    "pattern = r'\\d+'\n",
    "\n",
    "x = re.findall(pattern, sample)\n",
    "print(max(x))"
   ]
  },
  {
   "cell_type": "markdown",
   "id": "af4bbf77",
   "metadata": {},
   "source": [
    "Question 23- Create a function in python to insert spaces between words starting with capital\n",
    "letters.\n",
    "\n",
    "Sample Text: “RegularExpressionIsAnImportantTopicInPython&quot;\n",
    "    \n",
    "Expected Output: Regular Expression Is An Important Topic In Python"
   ]
  },
  {
   "cell_type": "code",
   "execution_count": 24,
   "id": "8ada740d",
   "metadata": {},
   "outputs": [
    {
     "name": "stdout",
     "output_type": "stream",
     "text": [
      "Regular Expression Is An Important Topic In Python\n"
     ]
    }
   ],
   "source": [
    "def insert_spaces(strn):\n",
    "    pattern = r'([a-z])([A-Z])'\n",
    "    x = re.sub(pattern, r'\\1 \\2', strn)\n",
    "    return x\n",
    "\n",
    "string = \"RegularExpressionIsAnImportantTopicInPython\"\n",
    "k = insert_spaces(string)\n",
    "print(k)\n"
   ]
  },
  {
   "cell_type": "markdown",
   "id": "e3947988",
   "metadata": {},
   "source": [
    "Question 24- Python regex to find sequences of one upper case letter followed by lower case letters"
   ]
  },
  {
   "cell_type": "code",
   "execution_count": 25,
   "id": "1f00f511",
   "metadata": {},
   "outputs": [
    {
     "data": {
      "text/plain": [
       "['Regular', 'Expression', 'Is', 'An', 'Important', 'Topic', 'In', 'Python']"
      ]
     },
     "execution_count": 25,
     "metadata": {},
     "output_type": "execute_result"
    }
   ],
   "source": [
    "regex = r'[A-Z][a-z]+'\n",
    "\n",
    "string = \"RegularExpression IsAnImportant TopicInPython\"\n",
    "\n",
    "x = re.findall(regex,string)\n",
    "x\n"
   ]
  },
  {
   "cell_type": "markdown",
   "id": "ad2298a2",
   "metadata": {},
   "source": [
    "Question 25- Write a Python program to remove continuous duplicate words from Sentence using\n",
    "Regular Expression.\n",
    "\n",
    "Sample Text: &quot;Hello hello world world&quot;\n",
    "    \n",
    "Expected Output: Hello hello world"
   ]
  },
  {
   "cell_type": "code",
   "execution_count": 26,
   "id": "d55fc002",
   "metadata": {},
   "outputs": [
    {
     "name": "stdout",
     "output_type": "stream",
     "text": [
      "Hello hello world\n"
     ]
    }
   ],
   "source": [
    "sample = \"Hello hello world world\"\n",
    "\n",
    "regex = r'\\b(\\w+)(?:\\W+\\1\\b)+'\n",
    "\n",
    "x = re.sub (regex, r'\\1', sample) \n",
    "print(x)"
   ]
  },
  {
   "cell_type": "markdown",
   "id": "cb942257",
   "metadata": {},
   "source": [
    "Question 26- Write a python program using RegEx to accept string ending with alphanumeric\n",
    "character."
   ]
  },
  {
   "cell_type": "code",
   "execution_count": 27,
   "id": "e528012f",
   "metadata": {},
   "outputs": [
    {
     "name": "stdout",
     "output_type": "stream",
     "text": [
      "Enter a String : fliprobo845\n",
      "string ends with alphanumeric charactor\n"
     ]
    }
   ],
   "source": [
    "pattern = r'^.*[a-zA-Z0-9]$'\n",
    "string = input(\"Enter a String : \")\n",
    "\n",
    "x = re.match(pattern,string)\n",
    "if x:\n",
    "    print(\"string ends with alphanumeric charactor\")\n",
    "else:\n",
    "    print(\"string does not end with alphanumeric charactor\")"
   ]
  },
  {
   "cell_type": "markdown",
   "id": "94d97f31",
   "metadata": {},
   "source": [
    "Question 27-Write a python program using RegEx to extract the hashtags.\n",
    "\n",
    "Sample Text: &quot;&quot;&quot;RT @kapil_kausik: #Doltiwal I mean #xyzabc is &quot;hurt&quot; by #Demonetization as the same\n",
    "has rendered USELESS &lt;ed&gt;&lt;U+00A0&gt;&lt;U+00BD&gt;&lt;ed&gt;&lt;U+00B1&gt;&lt;U+0089&gt; &quot;acquired funds&quot; No wo&quot;&quot;&quot;\n",
    "\n",
    "Expected Output: [&#39;#Doltiwal&#39;, &#39;#xyzabc&#39;, &#39;#Demonetization&#39;]"
   ]
  },
  {
   "cell_type": "code",
   "execution_count": 28,
   "id": "c4408ff1",
   "metadata": {},
   "outputs": [
    {
     "data": {
      "text/plain": [
       "['#Doltiwal', '#xyzabc', '#Demonetization']"
      ]
     },
     "execution_count": 28,
     "metadata": {},
     "output_type": "execute_result"
    }
   ],
   "source": [
    "sample = \"\"\"RT @kapil_kausik: #Doltiwal I mean #xyzabc is \"hurt\" by #Demonetization as the same has rendered USELESS \n",
    "<ed><U+00A0><U+00BD><ed><U+00B1><U+0089> \"acquired funds\" No wo\"\"\"\n",
    "\n",
    "pattern = r'\\#\\w+'\n",
    "\n",
    "x = re.findall(pattern,sample)\n",
    "x"
   ]
  },
  {
   "cell_type": "markdown",
   "id": "7bab530e",
   "metadata": {},
   "source": [
    "Question 28- Write a python program using RegEx to remove &lt;U+..&gt; like symbols\n",
    "Check the below sample text, there are strange symbols something of the sort &lt;U+..&gt; all over the place.\n",
    "You need to come up with a general Regex expression that will cover all such symbols.\n",
    "\n",
    "Sample Text: &quot;@Jags123456 Bharat band on\n",
    "28??&lt;ed&gt;&lt;U+00A0&gt;&lt;U+00BD&gt;&lt;ed&gt;&lt;U+00B8&gt;&lt;U+0082&gt;Those who are protesting #demonetization are\n",
    "all different party leaders&quot;\n",
    "\n",
    "Expected Output: @Jags123456 Bharat band on 28??&lt;ed&gt;&lt;ed&gt;Those who are protesting\n",
    "#demonetization are all different party leaders"
   ]
  },
  {
   "cell_type": "code",
   "execution_count": 29,
   "id": "249f65a6",
   "metadata": {},
   "outputs": [
    {
     "data": {
      "text/plain": [
       "'@Jags123456 Bharat band on 28??<ed><ed>Those who are protesting #demonetization are all different party leaders'"
      ]
     },
     "execution_count": 29,
     "metadata": {},
     "output_type": "execute_result"
    }
   ],
   "source": [
    "sample='@Jags123456 Bharat band on 28??<ed><U+00A0><U+00BD><ed><U+00B8><U+0082>Those who are protesting #demonetization are all different party leaders'\n",
    "\n",
    "pattern = r'<U\\+\\w+>'\n",
    "\n",
    "x = re.sub(pattern,\"\",sample)\n",
    "x"
   ]
  },
  {
   "cell_type": "markdown",
   "id": "0f46905d",
   "metadata": {},
   "source": [
    "Question 29- Write a python program to extract dates from the text stored in the text file.\n",
    "\n",
    "Sample Text: Ron was born on 12-09-1992 and he was admitted to school 15-12-1999.\n",
    "\n",
    "Note- Store this sample text in the file and then extract dates."
   ]
  },
  {
   "cell_type": "code",
   "execution_count": 30,
   "id": "083538d2",
   "metadata": {},
   "outputs": [
    {
     "data": {
      "text/plain": [
       "['12-09-1992', '15-12-1999']"
      ]
     },
     "execution_count": 30,
     "metadata": {},
     "output_type": "execute_result"
    }
   ],
   "source": [
    "with open('sample4.txt') as f:\n",
    "    x = f.read()\n",
    "    \n",
    "pattern = r'\\b\\d{2}-\\d{2}-\\d{4}\\b'\n",
    "\n",
    "k = re.findall(pattern,x)\n",
    "k"
   ]
  },
  {
   "cell_type": "markdown",
   "id": "e3467812",
   "metadata": {},
   "source": [
    "Question 30- Create a function in python to remove all words from a string of length between 2 and\n",
    "4.\n",
    "The use of the re.compile() method is mandatory.\n",
    "\n",
    "Sample Text: &quot;The following example creates an ArrayList with a capacity of 50 elements. 4 elements\n",
    "are then added to the ArrayList and the ArrayList is trimmed accordingly.&quot;\n",
    "\n",
    "Expected Output: following example creates ArrayList a capacity elements. 4 elements added ArrayList\n",
    "ArrayList trimmed accordingly."
   ]
  },
  {
   "cell_type": "code",
   "execution_count": null,
   "id": "3d80c398",
   "metadata": {},
   "outputs": [],
   "source": [
    "sample= \"The following example creates an ArrayList with a capacity of 50 elements. 4 elements are then added to the ArrayList and the ArrayList is trimmed accordingly.\"\n",
    "\n",
    "pattern = r'\\b\\w{2,4}\\b'\n",
    "\n",
    "x = re.sub(pattern,\"\",sample)\n",
    "print(x)"
   ]
  },
  {
   "cell_type": "code",
   "execution_count": null,
   "id": "77f95634",
   "metadata": {},
   "outputs": [],
   "source": []
  }
 ],
 "metadata": {
  "kernelspec": {
   "display_name": "Python 3 (ipykernel)",
   "language": "python",
   "name": "python3"
  },
  "language_info": {
   "codemirror_mode": {
    "name": "ipython",
    "version": 3
   },
   "file_extension": ".py",
   "mimetype": "text/x-python",
   "name": "python",
   "nbconvert_exporter": "python",
   "pygments_lexer": "ipython3",
   "version": "3.9.12"
  }
 },
 "nbformat": 4,
 "nbformat_minor": 5
}
